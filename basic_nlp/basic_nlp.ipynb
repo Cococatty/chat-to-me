{
  "nbformat": 4,
  "nbformat_minor": 0,
  "metadata": {
    "colab": {
      "provenance": []
    },
    "kernelspec": {
      "name": "python3",
      "display_name": "Python 3"
    }
  },
  "cells": [
    {
      "cell_type": "markdown",
      "metadata": {
        "id": "zhXBKLgyyqaS"
      },
      "source": [
        "# Calculate the edit distance bewteen target word and current words"
      ]
    },
    {
      "cell_type": "code",
      "metadata": {
        "id": "lk0vJQxwyL82",
        "colab": {
          "base_uri": "https://localhost:8080/",
          "height": 52
        },
        "outputId": "63d6e377-ca38-4137-912e-7cb4f3c90eb7"
      },
      "source": [
        "import editdistance\n",
        "data = ['edward', 'Edward']\n",
        "for record in data:\n",
        "    dist = editdistance.eval(record, 'edwin')\n",
        "    print('Edit Distance for %s and %s is %d' % (record, 'edwin', dist))"
      ],
      "execution_count": null,
      "outputs": [
        {
          "output_type": "stream",
          "text": [
            "Edit Distance for edward and edwin is 3\n",
            "Edit Distance for Edward and edwin is 4\n"
          ],
          "name": "stdout"
        }
      ]
    },
    {
      "cell_type": "code",
      "metadata": {
        "id": "9eTdW2HMySkO",
        "colab": {
          "base_uri": "https://localhost:8080/",
          "height": 104
        },
        "outputId": "0c547075-80c7-4bc5-9b93-71874c9e1ac6"
      },
      "source": [
        "data_male = ['mal', 'make', 'female', 'male-ish', 'neuture']\n",
        "\n",
        "for record in data_male:\n",
        "    dist = editdistance.eval(record, 'male')\n",
        "    print('Edit Distance for %s and %s is %d' % (record, 'male', dist))"
      ],
      "execution_count": null,
      "outputs": [
        {
          "output_type": "stream",
          "text": [
            "Edit Distance for mal and male is 1\n",
            "Edit Distance for make and male is 1\n",
            "Edit Distance for female and male is 2\n",
            "Edit Distance for male-ish and male is 4\n",
            "Edit Distance for neuture and male is 6\n"
          ],
          "name": "stdout"
        }
      ]
    },
    {
      "cell_type": "markdown",
      "metadata": {
        "id": "3wuNFWUmyyRk"
      },
      "source": [
        "# Spelling check"
      ]
    },
    {
      "cell_type": "code",
      "metadata": {
        "id": "7KqxVH9HyzcK"
      },
      "source": [
        "!python -m pip install -U symspellpy\n",
        "\n",
        "from collections import Counter\n",
        "from sklearn.datasets import fetch_20newsgroups\n",
        "import re\n",
        "\n",
        "corpus = []\n",
        "for line in fetch_20newsgroups().data:\n",
        "    line = line.replace('\\n', ' ').replace('\\t', ' ').lower()\n",
        "    line = re.sub('[^a-z ]', ' ', line)\n",
        "    tokens = line.split(' ')\n",
        "    tokens = [token for token in tokens if len(token) > 0]\n",
        "    corpus.extend(tokens)\n",
        "corpus = Counter(corpus)\n",
        "corpus_dir = '../../data/'\n",
        "corpus_file_name = 'spell_check_dictionary.txt'\n",
        "symspell = SymSpell(verbose=10)\n",
        "symspell.build_vocab(\n",
        "    dictionary=corpus, \n",
        "    file_dir=corpus_dir, file_name=corpus_file_name)\n",
        "symspell.load_vocab(corpus_file_path=corpus_dir+corpus_file_name)\n"
      ],
      "execution_count": null,
      "outputs": []
    },
    {
      "cell_type": "markdown",
      "metadata": {
        "id": "cZ8BzXPWy-Fd"
      },
      "source": [
        "# pyspellchecker"
      ]
    },
    {
      "cell_type": "code",
      "metadata": {
        "id": "zxUbSsEXy7hQ",
        "colab": {
          "base_uri": "https://localhost:8080/",
          "height": 139
        },
        "outputId": "34cf4ba3-1209-4905-99a4-d0893134ff56"
      },
      "source": [
        "!pip install pyspellchecker\n",
        "from spellchecker import SpellChecker\n",
        " \n",
        "spell = SpellChecker()\n",
        "spell.correction('make') # address"
      ],
      "execution_count": 1,
      "outputs": [
        {
          "output_type": "stream",
          "name": "stdout",
          "text": [
            "Looking in indexes: https://pypi.org/simple, https://us-python.pkg.dev/colab-wheels/public/simple/\n",
            "Collecting pyspellchecker\n",
            "  Downloading pyspellchecker-0.7.2-py3-none-any.whl (3.4 MB)\n",
            "\u001b[2K     \u001b[90m━━━━━━━━━━━━━━━━━━━━━━━━━━━━━━━━━━━━━━━━\u001b[0m \u001b[32m3.4/3.4 MB\u001b[0m \u001b[31m46.7 MB/s\u001b[0m eta \u001b[36m0:00:00\u001b[0m\n",
            "\u001b[?25hInstalling collected packages: pyspellchecker\n",
            "Successfully installed pyspellchecker-0.7.2\n"
          ]
        },
        {
          "output_type": "execute_result",
          "data": {
            "text/plain": [
              "'make'"
            ],
            "application/vnd.google.colaboratory.intrinsic+json": {
              "type": "string"
            }
          },
          "metadata": {},
          "execution_count": 1
        }
      ]
    },
    {
      "cell_type": "markdown",
      "metadata": {
        "id": "BKu5DJVrzAFF"
      },
      "source": [
        "# textblob"
      ]
    },
    {
      "cell_type": "code",
      "metadata": {
        "id": "nRNMAq90zAlN",
        "colab": {
          "base_uri": "https://localhost:8080/"
        },
        "outputId": "956b78ed-4dfc-4374-8e39-2faf065459a8"
      },
      "source": [
        "!pip install textblob\n",
        "from textblob import Word\n",
        " \n",
        "word = Word('percieve') \n",
        "word.spellcheck()\n"
      ],
      "execution_count": 5,
      "outputs": [
        {
          "output_type": "stream",
          "name": "stdout",
          "text": [
            "Looking in indexes: https://pypi.org/simple, https://us-python.pkg.dev/colab-wheels/public/simple/\n",
            "Requirement already satisfied: textblob in /usr/local/lib/python3.10/dist-packages (0.17.1)\n",
            "Requirement already satisfied: nltk>=3.1 in /usr/local/lib/python3.10/dist-packages (from textblob) (3.8.1)\n",
            "Requirement already satisfied: click in /usr/local/lib/python3.10/dist-packages (from nltk>=3.1->textblob) (8.1.3)\n",
            "Requirement already satisfied: joblib in /usr/local/lib/python3.10/dist-packages (from nltk>=3.1->textblob) (1.2.0)\n",
            "Requirement already satisfied: regex>=2021.8.3 in /usr/local/lib/python3.10/dist-packages (from nltk>=3.1->textblob) (2022.10.31)\n",
            "Requirement already satisfied: tqdm in /usr/local/lib/python3.10/dist-packages (from nltk>=3.1->textblob) (4.65.0)\n"
          ]
        },
        {
          "output_type": "execute_result",
          "data": {
            "text/plain": [
              "[('perceive', 1.0)]"
            ]
          },
          "metadata": {},
          "execution_count": 5
        }
      ]
    },
    {
      "cell_type": "code",
      "source": [
        "word = Word('personell')\n",
        "word.spellcheck()"
      ],
      "metadata": {
        "colab": {
          "base_uri": "https://localhost:8080/"
        },
        "id": "2xkS8Wa0PmCx",
        "outputId": "f2fdcefe-15fc-41e8-c20f-602c41f7724c"
      },
      "execution_count": 3,
      "outputs": [
        {
          "output_type": "execute_result",
          "data": {
            "text/plain": [
              "[('personal', 0.65),\n",
              " ('personally', 0.2642857142857143),\n",
              " ('peroneal', 0.06428571428571428),\n",
              " ('personnel', 0.014285714285714285),\n",
              " ('personen', 0.007142857142857143)]"
            ]
          },
          "metadata": {},
          "execution_count": 3
        }
      ]
    },
    {
      "cell_type": "code",
      "metadata": {
        "id": "5iuO7V0wwLuW",
        "colab": {
          "base_uri": "https://localhost:8080/"
        },
        "outputId": "126c803f-cf1d-4f13-cfe4-fbc76a591df0"
      },
      "source": [
        "word = Word('femail')\n",
        "word.spellcheck()"
      ],
      "execution_count": 4,
      "outputs": [
        {
          "output_type": "execute_result",
          "data": {
            "text/plain": [
              "[('email', 1.0)]"
            ]
          },
          "metadata": {},
          "execution_count": 4
        }
      ]
    }
  ]
}